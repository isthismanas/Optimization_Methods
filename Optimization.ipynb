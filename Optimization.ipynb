{
 "cells": [
  {
   "cell_type": "code",
   "execution_count": 1,
   "metadata": {},
   "outputs": [],
   "source": [
    "import numpy as np\n",
    "import matplotlib.pyplot as plt\n",
    "import scipy.io\n",
    "import math\n",
    "import sklearn\n",
    "import sklearn.datasets\n",
    "\n",
    "from opt_utils_v1a import load_params_and_grads, initialize_parameters, forward_propagation, backward_propagation\n",
    "from opt_utils_v1a import compute_cost, predict, predict_dec, plot_decision_boundary, load_dataset\n",
    "from copy import deepcopy\n",
    "\n",
    "%matplotlib inline\n",
    "plt.rcParams['figure.figsize'] = (7.0, 4.0) # set default size of plots\n",
    "plt.rcParams['image.interpolation'] = 'nearest'\n",
    "plt.rcParams['image.cmap'] = 'gray'\n",
    "\n",
    "%load_ext autoreload\n",
    "%autoreload 2"
   ]
  },
  {
   "cell_type": "code",
   "execution_count": 3,
   "metadata": {},
   "outputs": [],
   "source": [
    "def upgrade_parameters_with_gd(parameters , grads, learning_rate ):\n",
    "    L = len(parameters)\n",
    "    for l in range(1,L+1):\n",
    "       parameters[\"W\" + str(l)] = parameters['W' + str(l)] - (learning_rate * grads[\"dW\" + str(l)])\n",
    "       parameters[\"b\" + str(l)] = parameters['b' + str(l)] - (learning_rate * grads[\"db\" + str(l)])\n",
    "\n",
    "    return parameters       "
   ]
  },
  {
   "cell_type": "code",
   "execution_count": 4,
   "metadata": {},
   "outputs": [],
   "source": [
    "def random_mini_batches(X, Y, mini_batch_size = 64, seed = 0):\n",
    "\n",
    "    np.random.seed(seed)            \n",
    "    m = X.shape[1]                  \n",
    "    mini_batches = []\n",
    "        \n",
    "    permutation = list(np.random.permutation(m))\n",
    "    shuffled_X = X[:, permutation]\n",
    "    shuffled_Y = Y[:, permutation].reshape((1, m))\n",
    "    \n",
    "    inc = mini_batch_size\n",
    "\n",
    "    num_complete_minibatches = math.floor(m / mini_batch_size) \n",
    "    for k in range(0, num_complete_minibatches):\n",
    "        \n",
    "        mini_batch_X = shuffled_X[:, mini_batch_size * k : mini_batch_size * (k+1)]\n",
    "        mini_batch_Y = shuffled_Y[:, mini_batch_size * k : mini_batch_size * (k+1)]\n",
    " \n",
    "        mini_batch = (mini_batch_X, mini_batch_Y)\n",
    "        mini_batches.append(mini_batch)\n",
    "    \n",
    "    \n",
    "    if m % mini_batch_size != 0:\n",
    "      \n",
    "        mini_batch_X = shuffled_X[: , num_complete_minibatches * mini_batch_size : m]\n",
    "        mini_batch_Y = shuffled_Y[: , num_complete_minibatches * mini_batch_size : m]\n",
    "    \n",
    "        mini_batch = (mini_batch_X, mini_batch_Y)\n",
    "        mini_batches.append(mini_batch)\n",
    "    \n",
    "    return mini_batches"
   ]
  },
  {
   "cell_type": "markdown",
   "metadata": {},
   "source": [
    "### Momentum"
   ]
  },
  {
   "cell_type": "code",
   "execution_count": 6,
   "metadata": {},
   "outputs": [],
   "source": [
    "def initialize_velocity(parameters):\n",
    "\n",
    "    L = len(parameters) \n",
    "    v = {}\n",
    "    \n",
    "\n",
    "    for l in range(1, L + 1):\n",
    " \n",
    "        v['dW' + str(l)] = np.zeros_like(parameters['W' + str(l)])\n",
    "        v['db' + str(l)] = np.zeros_like(parameters['b' + str(l)])\n",
    "\n",
    "    return v"
   ]
  },
  {
   "cell_type": "code",
   "execution_count": 7,
   "metadata": {},
   "outputs": [],
   "source": [
    "def update_parameters_with_momentum(parameters, grads, v, beta, learning_rate):\n",
    "\n",
    "    L = len(parameters) \n",
    "\n",
    "    for l in range(1, L + 1):\n",
    "\n",
    "        v['dW' + str(l)] = (beta * v['dW' +str(l)]) + (1 - beta) * (grads['dW' + str(l)])\n",
    "        v['db' + str(l)] = (beta * v['db' +str(l)]) + (1 - beta) * (grads['db' + str(l)])\n",
    "        parameters['W' + str(l)] = parameters['W' + str(l)]  - (learning_rate * v['dW' + str(l)])\n",
    "        parameters['b' + str(l)] = parameters['b' + str(l)]  - (learning_rate * v['db' + str(l)])\n",
    "        \n",
    "    return parameters, v"
   ]
  },
  {
   "cell_type": "markdown",
   "metadata": {},
   "source": [
    "### Adam"
   ]
  },
  {
   "cell_type": "code",
   "execution_count": 8,
   "metadata": {},
   "outputs": [],
   "source": [
    "def initialize_adam(parameters):\n",
    "    L = len(parameters)\n",
    "    v = {}\n",
    "    s = {}\n",
    "\n",
    "    for l in range(1, L+1):\n",
    "        v['dw' + str(l)] = np.zeros_like(parameters['W' + str(l)])\n",
    "        v['db' + str(l)] = np.zeros_like(parameters['b' + str(l)])\n",
    "\n",
    "        s['dW' + str(l)] = np.zeros_like(parameters['W' + str(l)])\n",
    "        s['db' + str(l)] = np.zeros_like(parameters['b' + str(l)])\n",
    "\n",
    "    return v, s    "
   ]
  },
  {
   "cell_type": "code",
   "execution_count": 9,
   "metadata": {},
   "outputs": [],
   "source": [
    "def update_parameters_with_adam(parameters, grads, v, s, t, learning_rate = 0.01,\n",
    "                                beta1 = 0.9, beta2 = 0.999,  epsilon = 1e-8):\n",
    "\n",
    "    L = len(parameters) // 2                 \n",
    "    v_corrected = {}                         \n",
    "    s_corrected = {}                         \n",
    "    \n",
    "\n",
    "    for l in range(1, L + 1):\n",
    " \n",
    "        v['dW' + str(l)] = beta1 * v['dW' + str(l)] + (1 - beta1) * grads['dW' + str(l)]\n",
    "        v['db' + str(l)] = beta1 * v['db' + str(l)] + (1 - beta1) * grads['db' + str(l)]\n",
    "    \n",
    "        v_corrected['dW' + str(l)] = v['dW' + str(l)]/(1 -beta1**t)\n",
    "        v_corrected['db' + str(l)] = v['db' + str(l)]/(1 -beta1**t)\n",
    "\n",
    "        s['dW' + str(l)] = beta2 * s['dW' + str(l)] + (1 - beta2) * np.square(grads['dW' + str(l)])\n",
    "        s['db' + str(l)] = beta2 * s['db' + str(l)] + (1 - beta2) * np.square(grads['db' + str(l)])\n",
    "\n",
    "        s_corrected['dW' + str(l)] = s['dW' + str(l)]/(1 - beta2**t)\n",
    "        s_corrected['db' + str(l)] = s['db' + str(l)]/(1 - beta2**t)\n",
    "\n",
    "        parameters['W' + str(l)] = parameters['W' + str(l)] - (learning_rate * (v_corrected['dW'+ str(l)])/(np.sqrt(s_corrected['dW'+ str(l)]) + epsilon))\n",
    "        parameters['b' + str(l)] = parameters['b' + str(l)] - (learning_rate * (v_corrected['db'+ str(l)])/(np.sqrt(s_corrected['db'+ str(l)]) + epsilon))\n",
    "  \n",
    "\n",
    "    return parameters, v, s, v_corrected, s_corrected"
   ]
  }
 ],
 "metadata": {
  "kernelspec": {
   "display_name": "Python 3",
   "language": "python",
   "name": "python3"
  },
  "language_info": {
   "codemirror_mode": {
    "name": "ipython",
    "version": 3
   },
   "file_extension": ".py",
   "mimetype": "text/x-python",
   "name": "python",
   "nbconvert_exporter": "python",
   "pygments_lexer": "ipython3",
   "version": "3.11.5"
  }
 },
 "nbformat": 4,
 "nbformat_minor": 2
}
